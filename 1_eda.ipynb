{
 "cells": [
  {
   "cell_type": "markdown",
   "id": "ff79a552",
   "metadata": {},
   "source": [
    "# FOOD RECIPE RECOMMENDATION ENGINE"
   ]
  },
  {
   "cell_type": "markdown",
   "id": "6678a4c7",
   "metadata": {},
   "source": [
    "## Part 1: Data Preprocessing"
   ]
  },
  {
   "cell_type": "code",
   "execution_count": 1,
   "id": "be8e0f47",
   "metadata": {},
   "outputs": [],
   "source": [
    "import pandas as pd\n",
    "import matplotlib.pyplot as plt\n",
    "%matplotlib inline\n",
    "from numpy import mean\n",
    "from src.eda import *"
   ]
  },
  {
   "cell_type": "markdown",
   "id": "85d679cb",
   "metadata": {},
   "source": [
    "### Load datasets"
   ]
  },
  {
   "cell_type": "markdown",
   "id": "804b567a",
   "metadata": {},
   "source": [
    "Our data was scraped from [food.com](https://www.food.com/) and uploaded to Kaggle. There are two datasets: one for [recipes](https://www.kaggle.com/shuyangli94/food-com-recipes-and-user-interactions?select=RAW_recipes.csv) and one for [user interactions](https://www.kaggle.com/shuyangli94/food-com-recipes-and-user-interactions?select=RAW_interactions.csv) with the recipes."
   ]
  },
  {
   "cell_type": "markdown",
   "id": "148286e6",
   "metadata": {},
   "source": [
    "#### Recipes"
   ]
  },
  {
   "cell_type": "code",
   "execution_count": 2,
   "id": "0b15af5e",
   "metadata": {},
   "outputs": [
    {
     "data": {
      "text/html": [
       "<div>\n",
       "<style scoped>\n",
       "    .dataframe tbody tr th:only-of-type {\n",
       "        vertical-align: middle;\n",
       "    }\n",
       "\n",
       "    .dataframe tbody tr th {\n",
       "        vertical-align: top;\n",
       "    }\n",
       "\n",
       "    .dataframe thead th {\n",
       "        text-align: right;\n",
       "    }\n",
       "</style>\n",
       "<table border=\"1\" class=\"dataframe\">\n",
       "  <thead>\n",
       "    <tr style=\"text-align: right;\">\n",
       "      <th></th>\n",
       "      <th>name</th>\n",
       "      <th>id</th>\n",
       "      <th>minutes</th>\n",
       "      <th>contributor_id</th>\n",
       "      <th>submitted</th>\n",
       "      <th>tags</th>\n",
       "      <th>nutrition</th>\n",
       "      <th>n_steps</th>\n",
       "      <th>steps</th>\n",
       "      <th>description</th>\n",
       "      <th>ingredients</th>\n",
       "      <th>n_ingredients</th>\n",
       "    </tr>\n",
       "  </thead>\n",
       "  <tbody>\n",
       "    <tr>\n",
       "      <th>0</th>\n",
       "      <td>Arriba Baked Winter Squash Mexican Style</td>\n",
       "      <td>137739</td>\n",
       "      <td>55</td>\n",
       "      <td>47892</td>\n",
       "      <td>2005-09-16</td>\n",
       "      <td>[60-minutes-or-less, time-to-make, course, mai...</td>\n",
       "      <td>[51.5, 0.0, 13.0, 0.0, 2.0, 0.0, 4.0]</td>\n",
       "      <td>11</td>\n",
       "      <td>[make a choice and proceed with recipe, depend...</td>\n",
       "      <td>autumn is my favorite time of year to cook! th...</td>\n",
       "      <td>[winter squash, mexican seasoning, mixed spice...</td>\n",
       "      <td>7</td>\n",
       "    </tr>\n",
       "    <tr>\n",
       "      <th>1</th>\n",
       "      <td>A Bit Different Breakfast Pizza</td>\n",
       "      <td>31490</td>\n",
       "      <td>30</td>\n",
       "      <td>26278</td>\n",
       "      <td>2002-06-17</td>\n",
       "      <td>[30-minutes-or-less, time-to-make, course, mai...</td>\n",
       "      <td>[173.4, 18.0, 0.0, 17.0, 22.0, 35.0, 1.0]</td>\n",
       "      <td>9</td>\n",
       "      <td>[preheat oven to 425 degrees f, press dough in...</td>\n",
       "      <td>this recipe calls for the crust to be prebaked...</td>\n",
       "      <td>[prepared pizza crust, sausage patty, eggs, mi...</td>\n",
       "      <td>6</td>\n",
       "    </tr>\n",
       "    <tr>\n",
       "      <th>2</th>\n",
       "      <td>All In The Kitchen Chili</td>\n",
       "      <td>112140</td>\n",
       "      <td>130</td>\n",
       "      <td>196586</td>\n",
       "      <td>2005-02-25</td>\n",
       "      <td>[time-to-make, course, preparation, main-dish,...</td>\n",
       "      <td>[269.8, 22.0, 32.0, 48.0, 39.0, 27.0, 5.0]</td>\n",
       "      <td>6</td>\n",
       "      <td>[brown ground beef in large pot, add chopped o...</td>\n",
       "      <td>this modified version of 'mom's' chili was a h...</td>\n",
       "      <td>[ground beef, yellow onions, diced tomatoes, t...</td>\n",
       "      <td>13</td>\n",
       "    </tr>\n",
       "    <tr>\n",
       "      <th>3</th>\n",
       "      <td>Alouette Potatoes</td>\n",
       "      <td>59389</td>\n",
       "      <td>45</td>\n",
       "      <td>68585</td>\n",
       "      <td>2003-04-14</td>\n",
       "      <td>[60-minutes-or-less, time-to-make, course, mai...</td>\n",
       "      <td>[368.1, 17.0, 10.0, 2.0, 14.0, 8.0, 20.0]</td>\n",
       "      <td>11</td>\n",
       "      <td>[place potatoes in a large pot of lightly salt...</td>\n",
       "      <td>this is a super easy, great tasting, make ahea...</td>\n",
       "      <td>[spreadable cheese with garlic and herbs, new ...</td>\n",
       "      <td>11</td>\n",
       "    </tr>\n",
       "    <tr>\n",
       "      <th>4</th>\n",
       "      <td>Amish Tomato Ketchup For Canning</td>\n",
       "      <td>44061</td>\n",
       "      <td>190</td>\n",
       "      <td>41706</td>\n",
       "      <td>2002-10-25</td>\n",
       "      <td>[weeknight, time-to-make, course, main-ingredi...</td>\n",
       "      <td>[352.9, 1.0, 337.0, 23.0, 3.0, 0.0, 28.0]</td>\n",
       "      <td>5</td>\n",
       "      <td>[mix all ingredients&amp; boil for 2 1 / 2 hours ,...</td>\n",
       "      <td>my dh's amish mother raised him on this recipe...</td>\n",
       "      <td>[tomato juice, apple cider vinegar, sugar, sal...</td>\n",
       "      <td>8</td>\n",
       "    </tr>\n",
       "  </tbody>\n",
       "</table>\n",
       "</div>"
      ],
      "text/plain": [
       "                                       name      id  minutes  contributor_id  \\\n",
       "0  Arriba Baked Winter Squash Mexican Style  137739       55           47892   \n",
       "1           A Bit Different Breakfast Pizza   31490       30           26278   \n",
       "2                  All In The Kitchen Chili  112140      130          196586   \n",
       "3                         Alouette Potatoes   59389       45           68585   \n",
       "4          Amish Tomato Ketchup For Canning   44061      190           41706   \n",
       "\n",
       "    submitted                                               tags  \\\n",
       "0  2005-09-16  [60-minutes-or-less, time-to-make, course, mai...   \n",
       "1  2002-06-17  [30-minutes-or-less, time-to-make, course, mai...   \n",
       "2  2005-02-25  [time-to-make, course, preparation, main-dish,...   \n",
       "3  2003-04-14  [60-minutes-or-less, time-to-make, course, mai...   \n",
       "4  2002-10-25  [weeknight, time-to-make, course, main-ingredi...   \n",
       "\n",
       "                                    nutrition  n_steps  \\\n",
       "0       [51.5, 0.0, 13.0, 0.0, 2.0, 0.0, 4.0]       11   \n",
       "1   [173.4, 18.0, 0.0, 17.0, 22.0, 35.0, 1.0]        9   \n",
       "2  [269.8, 22.0, 32.0, 48.0, 39.0, 27.0, 5.0]        6   \n",
       "3   [368.1, 17.0, 10.0, 2.0, 14.0, 8.0, 20.0]       11   \n",
       "4   [352.9, 1.0, 337.0, 23.0, 3.0, 0.0, 28.0]        5   \n",
       "\n",
       "                                               steps  \\\n",
       "0  [make a choice and proceed with recipe, depend...   \n",
       "1  [preheat oven to 425 degrees f, press dough in...   \n",
       "2  [brown ground beef in large pot, add chopped o...   \n",
       "3  [place potatoes in a large pot of lightly salt...   \n",
       "4  [mix all ingredients& boil for 2 1 / 2 hours ,...   \n",
       "\n",
       "                                         description  \\\n",
       "0  autumn is my favorite time of year to cook! th...   \n",
       "1  this recipe calls for the crust to be prebaked...   \n",
       "2  this modified version of 'mom's' chili was a h...   \n",
       "3  this is a super easy, great tasting, make ahea...   \n",
       "4  my dh's amish mother raised him on this recipe...   \n",
       "\n",
       "                                         ingredients  n_ingredients  \n",
       "0  [winter squash, mexican seasoning, mixed spice...              7  \n",
       "1  [prepared pizza crust, sausage patty, eggs, mi...              6  \n",
       "2  [ground beef, yellow onions, diced tomatoes, t...             13  \n",
       "3  [spreadable cheese with garlic and herbs, new ...             11  \n",
       "4  [tomato juice, apple cider vinegar, sugar, sal...              8  "
      ]
     },
     "execution_count": 2,
     "metadata": {},
     "output_type": "execute_result"
    }
   ],
   "source": [
    "recipes = pd.read_feather(\"./data/recipes.feather\")\n",
    "recipes.drop([\"level_0\", \"index\"], axis=1, inplace=True)\n",
    "recipes.head()"
   ]
  },
  {
   "cell_type": "markdown",
   "id": "cec8aa1a",
   "metadata": {},
   "source": [
    "The `recipes` dataset has 231,637 rows (each corresponding to a unique recipe) and 12 columns. Most columns do not have missing data, with the exception of `description`. The column details are shown below."
   ]
  },
  {
   "cell_type": "code",
   "execution_count": 3,
   "id": "e6ced76e",
   "metadata": {},
   "outputs": [
    {
     "name": "stdout",
     "output_type": "stream",
     "text": [
      "<class 'pandas.core.frame.DataFrame'>\n",
      "RangeIndex: 231636 entries, 0 to 231635\n",
      "Data columns (total 12 columns):\n",
      " #   Column          Non-Null Count   Dtype \n",
      "---  ------          --------------   ----- \n",
      " 0   name            231636 non-null  object\n",
      " 1   id              231636 non-null  int64 \n",
      " 2   minutes         231636 non-null  int64 \n",
      " 3   contributor_id  231636 non-null  int64 \n",
      " 4   submitted       231636 non-null  object\n",
      " 5   tags            231636 non-null  object\n",
      " 6   nutrition       231636 non-null  object\n",
      " 7   n_steps         231636 non-null  int64 \n",
      " 8   steps           231636 non-null  object\n",
      " 9   description     226657 non-null  object\n",
      " 10  ingredients     231636 non-null  object\n",
      " 11  n_ingredients   231636 non-null  int64 \n",
      "dtypes: int64(5), object(7)\n",
      "memory usage: 21.2+ MB\n"
     ]
    }
   ],
   "source": [
    "recipes.info()"
   ]
  },
  {
   "cell_type": "markdown",
   "id": "7f63b7d5",
   "metadata": {},
   "source": [
    "##### Cooking time (`minutes`)"
   ]
  },
  {
   "cell_type": "markdown",
   "id": "65cd159d",
   "metadata": {},
   "source": [
    "The minimum cooking time is 0 minutes, while the maximum cooking time is over 4,000 years! We will leave these numbers as they are, since it may be hard to infer the correct values. However, we will explore what this data looks like when we exclude outliers."
   ]
  },
  {
   "cell_type": "code",
   "execution_count": 4,
   "id": "2ca6d5ea",
   "metadata": {},
   "outputs": [
    {
     "name": "stdout",
     "output_type": "stream",
     "text": [
      "Minimum cooking time: 0\n",
      "Maximum cooking time: 2147483647\n"
     ]
    }
   ],
   "source": [
    "print(\"Minimum cooking time: {}\".format(min(recipes[\"minutes\"])))\n",
    "print(\"Maximum cooking time: {}\".format(max(recipes[\"minutes\"])))"
   ]
  },
  {
   "cell_type": "markdown",
   "id": "d36ec730",
   "metadata": {},
   "source": [
    "Cooking time is very right-skewed when we include outliers. After removing outliers using the interquartile range (IQR) method, we see that the majority of dishes can be cooked in under 60 minutes. Without outliers, the distribution still has a tail on the right. This makes sense: while most dishes can be prepared in under an hour, there is the occasional dish that requires a lot more time."
   ]
  },
  {
   "cell_type": "code",
   "execution_count": 5,
   "id": "1f08ff17",
   "metadata": {},
   "outputs": [],
   "source": [
    "minutes_outliers_removed = remove_outliers(recipes[\"minutes\"]) # Remove outliers for plotting"
   ]
  },
  {
   "cell_type": "code",
   "execution_count": 6,
   "id": "91c5ba63",
   "metadata": {},
   "outputs": [
    {
     "data": {
      "image/png": "[encoded data removed]",
      "text/plain": [
       "<Figure size 1080x360 with 2 Axes>"
      ]
     },
     "metadata": {
      "needs_background": "light"
     },
     "output_type": "display_data"
    }
   ],
   "source": [
    "xlab = \"Cooking time (minutes)\"\n",
    "name = \"cooking time of dish\"\n",
    "plot_hist_outliers(recipes[\"minutes\"], minutes_outliers_removed, xlab, name)"
   ]
  },
  {
   "cell_type": "markdown",
   "id": "875c3f9f",
   "metadata": {},
   "source": [
    "##### Recipe contributors (`contributor_id`)"
   ]
  },
  {
   "cell_type": "markdown",
   "id": "6a26af12",
   "metadata": {},
   "source": [
    "There are nearly 10 times as many recipes as there are contributors, meaning that the same contributors are providing multiple recipes."
   ]
  },
  {
   "cell_type": "code",
   "execution_count": 7,
   "id": "be566846",
   "metadata": {},
   "outputs": [
    {
     "name": "stdout",
     "output_type": "stream",
     "text": [
      "Number of contributors: 27926\n"
     ]
    }
   ],
   "source": [
    "print(\"Number of contributors: {}\".format(recipes[\"contributor_id\"].nunique()))"
   ]
  },
  {
   "cell_type": "markdown",
   "id": "34eab21b",
   "metadata": {},
   "source": [
    "##### Submission date (`submitted`)"
   ]
  },
  {
   "cell_type": "markdown",
   "id": "d887a931",
   "metadata": {},
   "source": [
    "This dataset holds recipes submitted over a period of almost 20 years, starting in 1999 and ending in 2018."
   ]
  },
  {
   "cell_type": "code",
   "execution_count": 8,
   "id": "38f4c101",
   "metadata": {},
   "outputs": [
    {
     "name": "stdout",
     "output_type": "stream",
     "text": [
      "Earliest recipe submission: 1999-08-06\n",
      "Earliest recipe submission: 2018-12-04\n"
     ]
    }
   ],
   "source": [
    "print(\"Earliest recipe submission: {}\".format(min(recipes[\"submitted\"])))\n",
    "print(\"Earliest recipe submission: {}\".format(max(recipes[\"submitted\"])))"
   ]
  },
  {
   "cell_type": "markdown",
   "id": "463bca83",
   "metadata": {},
   "source": [
    "##### Nutrition (`nutrition`)"
   ]
  },
  {
   "cell_type": "markdown",
   "id": "38ec207f",
   "metadata": {},
   "source": [
    "Calorie count is very right-skewed when we include outliers. After removing outliers using the interquartile range (IQR) method, we see that the majority of dishes contain 200 - 600 calories. Without outliers, the distribution still has a tail on the right. This makes sense: while most dishes fall into our majority range, there is the occasional dish that is loaded with calories."
   ]
  },
  {
   "cell_type": "code",
   "execution_count": 9,
   "id": "31ab1a5a",
   "metadata": {},
   "outputs": [
    {
     "data": {
      "image/png": "[encoded data removed]",
      "text/plain": [
       "<Figure size 1080x360 with 2 Axes>"
      ]
     },
     "metadata": {
      "needs_background": "light"
     },
     "output_type": "display_data"
    }
   ],
   "source": [
    "xlab = \"Calories\"\n",
    "name = \"calories\"\n",
    "calories = [item[0] for item in recipes.nutrition]\n",
    "calories_outliers_removed = remove_outliers(calories)\n",
    "plot_hist_outliers(calories, calories_outliers_removed, xlab, name)"
   ]
  },
  {
   "cell_type": "markdown",
   "id": "1b7fbdd5",
   "metadata": {},
   "source": [
    "##### Steps (`n_steps`) and ingredients (`n_ingredients`)"
   ]
  },
  {
   "cell_type": "markdown",
   "id": "2b02a69d",
   "metadata": {},
   "source": [
    "We see the same trend for `n_steps` and `n_ingredients` as we saw for `minutes` and `nutrition`."
   ]
  },
  {
   "cell_type": "code",
   "execution_count": 10,
   "id": "b2c9a8df",
   "metadata": {},
   "outputs": [
    {
     "data": {
      "image/png": "[encoded data removed]",
      "text/plain": [
       "<Figure size 1080x360 with 2 Axes>"
      ]
     },
     "metadata": {
      "needs_background": "light"
     },
     "output_type": "display_data"
    }
   ],
   "source": [
    "xlab = \"Number of steps\"\n",
    "name = \"number of steps\"\n",
    "steps_outliers_removed = remove_outliers(recipes[\"n_steps\"])\n",
    "plot_hist_outliers(recipes[\"n_steps\"], steps_outliers_removed, xlab, name)"
   ]
  },
  {
   "cell_type": "code",
   "execution_count": 11,
   "id": "a9cd4c4c",
   "metadata": {},
   "outputs": [
    {
     "data": {
      "image/png": "[encoded data removed]",
      "text/plain": [
       "<Figure size 1080x360 with 2 Axes>"
      ]
     },
     "metadata": {
      "needs_background": "light"
     },
     "output_type": "display_data"
    }
   ],
   "source": [
    "xlab = \"Number of ingredients\"\n",
    "name = \"number of ingredients\"\n",
    "ingredients_outliers_removed = remove_outliers(recipes[\"n_ingredients\"])\n",
    "plot_hist_outliers(recipes[\"n_ingredients\"], ingredients_outliers_removed, xlab, name)"
   ]
  },
  {
   "cell_type": "markdown",
   "id": "9708de62",
   "metadata": {},
   "source": [
    "#### User interactions"
   ]
  },
  {
   "cell_type": "code",
   "execution_count": 12,
   "id": "47816197",
   "metadata": {},
   "outputs": [
    {
     "data": {
      "text/html": [
       "<div>\n",
       "<style scoped>\n",
       "    .dataframe tbody tr th:only-of-type {\n",
       "        vertical-align: middle;\n",
       "    }\n",
       "\n",
       "    .dataframe tbody tr th {\n",
       "        vertical-align: top;\n",
       "    }\n",
       "\n",
       "    .dataframe thead th {\n",
       "        text-align: right;\n",
       "    }\n",
       "</style>\n",
       "<table border=\"1\" class=\"dataframe\">\n",
       "  <thead>\n",
       "    <tr style=\"text-align: right;\">\n",
       "      <th></th>\n",
       "      <th>user_id</th>\n",
       "      <th>recipe_id</th>\n",
       "      <th>date</th>\n",
       "      <th>rating</th>\n",
       "      <th>review</th>\n",
       "    </tr>\n",
       "  </thead>\n",
       "  <tbody>\n",
       "    <tr>\n",
       "      <th>0</th>\n",
       "      <td>38094</td>\n",
       "      <td>40893</td>\n",
       "      <td>2003-02-17</td>\n",
       "      <td>4</td>\n",
       "      <td>Great with a salad. Cooked on top of stove for...</td>\n",
       "    </tr>\n",
       "    <tr>\n",
       "      <th>1</th>\n",
       "      <td>1293707</td>\n",
       "      <td>40893</td>\n",
       "      <td>2011-12-21</td>\n",
       "      <td>5</td>\n",
       "      <td>So simple, so delicious! Great for chilly fall...</td>\n",
       "    </tr>\n",
       "    <tr>\n",
       "      <th>2</th>\n",
       "      <td>8937</td>\n",
       "      <td>44394</td>\n",
       "      <td>2002-12-01</td>\n",
       "      <td>4</td>\n",
       "      <td>This worked very well and is EASY.  I used not...</td>\n",
       "    </tr>\n",
       "    <tr>\n",
       "      <th>3</th>\n",
       "      <td>126440</td>\n",
       "      <td>85009</td>\n",
       "      <td>2010-02-27</td>\n",
       "      <td>5</td>\n",
       "      <td>I made the Mexican topping and took it to bunk...</td>\n",
       "    </tr>\n",
       "    <tr>\n",
       "      <th>4</th>\n",
       "      <td>57222</td>\n",
       "      <td>85009</td>\n",
       "      <td>2011-10-01</td>\n",
       "      <td>5</td>\n",
       "      <td>Made the cheddar bacon topping, adding a sprin...</td>\n",
       "    </tr>\n",
       "  </tbody>\n",
       "</table>\n",
       "</div>"
      ],
      "text/plain": [
       "   user_id  recipe_id        date  rating  \\\n",
       "0    38094      40893  2003-02-17       4   \n",
       "1  1293707      40893  2011-12-21       5   \n",
       "2     8937      44394  2002-12-01       4   \n",
       "3   126440      85009  2010-02-27       5   \n",
       "4    57222      85009  2011-10-01       5   \n",
       "\n",
       "                                              review  \n",
       "0  Great with a salad. Cooked on top of stove for...  \n",
       "1  So simple, so delicious! Great for chilly fall...  \n",
       "2  This worked very well and is EASY.  I used not...  \n",
       "3  I made the Mexican topping and took it to bunk...  \n",
       "4  Made the cheddar bacon topping, adding a sprin...  "
      ]
     },
     "execution_count": 12,
     "metadata": {},
     "output_type": "execute_result"
    }
   ],
   "source": [
    "interactions = pd.read_feather(\"./data/interactions.feather\")\n",
    "interactions.head()"
   ]
  },
  {
   "cell_type": "markdown",
   "id": "85920b3c",
   "metadata": {},
   "source": [
    "The `recipes` dataset has 1,132,367 rows and 5 columns. Most columns do not have missing data, with the exception of `review`. The column details are shown below."
   ]
  },
  {
   "cell_type": "code",
   "execution_count": 13,
   "id": "4789a107",
   "metadata": {},
   "outputs": [
    {
     "name": "stdout",
     "output_type": "stream",
     "text": [
      "<class 'pandas.core.frame.DataFrame'>\n",
      "RangeIndex: 1132367 entries, 0 to 1132366\n",
      "Data columns (total 5 columns):\n",
      " #   Column     Non-Null Count    Dtype \n",
      "---  ------     --------------    ----- \n",
      " 0   user_id    1132367 non-null  int64 \n",
      " 1   recipe_id  1132367 non-null  int64 \n",
      " 2   date       1132367 non-null  object\n",
      " 3   rating     1132367 non-null  int64 \n",
      " 4   review     1132198 non-null  object\n",
      "dtypes: int64(3), object(2)\n",
      "memory usage: 43.2+ MB\n"
     ]
    }
   ],
   "source": [
    "interactions.info()"
   ]
  },
  {
   "cell_type": "markdown",
   "id": "778b65e0",
   "metadata": {},
   "source": [
    "##### Users (`user_id`) and recipes (`recipe_id`)"
   ]
  },
  {
   "cell_type": "markdown",
   "id": "375e5607",
   "metadata": {},
   "source": [
    "We see that all 231,637 recipes have been used by someone. We have more rows than the number of recipes used, meaning that some recipes have been used more than once. The number of unique users is less than the number of recipes used, indicating that some users have used more than one recipe. This is important information for building our recommendation system."
   ]
  },
  {
   "cell_type": "code",
   "execution_count": 14,
   "id": "6c3168c2",
   "metadata": {},
   "outputs": [
    {
     "name": "stdout",
     "output_type": "stream",
     "text": [
      "Number of users: 226570\n",
      "Number of recipes used: 231637\n"
     ]
    }
   ],
   "source": [
    "print(\"Number of users: {}\".format(interactions[\"user_id\"].nunique()))\n",
    "print(\"Number of recipes used: {}\".format(interactions[\"recipe_id\"].nunique()))"
   ]
  },
  {
   "cell_type": "markdown",
   "id": "a87ac3a9",
   "metadata": {},
   "source": [
    "##### Rating (`rating`)"
   ]
  },
  {
   "cell_type": "markdown",
   "id": "eb9322ed",
   "metadata": {},
   "source": [
    "The average user rate approximately 5 recipes, while the average recipe also receives approximately 5 ratings. This is not a lot and will give a very sparse rating matrix, as you will see in memory-based collaborative filtering."
   ]
  },
  {
   "cell_type": "code",
   "execution_count": 15,
   "id": "e7f7b135",
   "metadata": {},
   "outputs": [
    {
     "name": "stdout",
     "output_type": "stream",
     "text": [
      "Average user gives 4.997868208500684 ratings\n",
      "Average recipe receives 4.888541122532238 ratings\n"
     ]
    }
   ],
   "source": [
    "ratings_per_user = interactions.groupby(\"user_id\")[\"rating\"].count()\n",
    "ratings_per_recipe = interactions.groupby(\"recipe_id\")[\"rating\"].count()\n",
    "print(\"Average user gives {} ratings\".format(mean(ratings_per_user)))\n",
    "print(\"Average recipe receives {} ratings\".format(mean(ratings_per_recipe)))"
   ]
  },
  {
   "cell_type": "markdown",
   "id": "0fbdafe5",
   "metadata": {},
   "source": [
    "The majority of ratings are 4s and 5s."
   ]
  },
  {
   "cell_type": "code",
   "execution_count": 16,
   "id": "1e2ba612",
   "metadata": {},
   "outputs": [
    {
     "data": {
      "image/png": "[encoded data removed]",
      "text/plain": [
       "<Figure size 360x360 with 1 Axes>"
      ]
     },
     "metadata": {
      "needs_background": "light"
     },
     "output_type": "display_data"
    }
   ],
   "source": [
    "xlab = \"Rating\"\n",
    "name = \"rating\"\n",
    "plot_hist(interactions[\"rating\"], xlab, name)"
   ]
  }
 ],
 "metadata": {
  "kernelspec": {
   "display_name": "conda_python3",
   "language": "python",
   "name": "conda_python3"
  },
  "language_info": {
   "codemirror_mode": {
    "name": "ipython",
    "version": 3
   },
   "file_extension": ".py",
   "mimetype": "text/x-python",
   "name": "python",
   "nbconvert_exporter": "python",
   "pygments_lexer": "ipython3",
   "version": "3.6.13"
  }
 },
 "nbformat": 4,
 "nbformat_minor": 5
}
