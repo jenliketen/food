{
 "cells": [
  {
   "cell_type": "markdown",
   "id": "7cb50465",
   "metadata": {},
   "source": [
    "# FOOD RECIPE RECOMMENDATION ENGINE"
   ]
  },
  {
   "cell_type": "markdown",
   "id": "5b5fbbca",
   "metadata": {},
   "source": [
    "## Part 2c: Model-Based Collaborative Filtering"
   ]
  },
  {
   "cell_type": "code",
   "execution_count": 1,
   "id": "44559143",
   "metadata": {},
   "outputs": [],
   "source": [
    "import pandas as pd\n",
    "from surprise.model_selection import cross_validate, train_test_split\n",
    "from surprise import Dataset, Reader\n",
    "from surprise import accuracy\n",
    "from src.model_based import *"
   ]
  },
  {
   "cell_type": "markdown",
   "id": "cf01b1ee",
   "metadata": {},
   "source": [
    "### Load data"
   ]
  },
  {
   "cell_type": "code",
   "execution_count": 2,
   "id": "205cd5a6",
   "metadata": {},
   "outputs": [],
   "source": [
    "# Load recipes\n",
    "recipes = pd.read_feather(\"./data/recipes.feather\")\n",
    "\n",
    "# Load interactions\n",
    "interactions = pd.read_feather(\"./data/interactions.feather\")\n",
    "\n",
    "# Map new user and recipe IDs for later use\n",
    "recipes, interactions = map_dfs(recipes, interactions)"
   ]
  },
  {
   "cell_type": "code",
   "execution_count": 3,
   "id": "f0e5f2ab",
   "metadata": {},
   "outputs": [],
   "source": [
    "reader = Reader(rating_scale=(0, 5))\n",
    "data = Dataset.load_from_df(interactions[[\"user_id\", \"recipe_id\", \"rating\"]], reader=reader)"
   ]
  },
  {
   "cell_type": "markdown",
   "id": "3260c311",
   "metadata": {},
   "source": [
    "### Find best model"
   ]
  },
  {
   "cell_type": "markdown",
   "id": "389ef05c",
   "metadata": {},
   "source": [
    "We will choose `SVD()`, `NMF()`, `NormalPredictor()`, and `BaselineOnly()` as candidate models and use the one with the lowest test RMSE."
   ]
  },
  {
   "cell_type": "code",
   "execution_count": 4,
   "id": "09623877",
   "metadata": {},
   "outputs": [
    {
     "name": "stdout",
     "output_type": "stream",
     "text": [
      "Estimating biases using als...\n",
      "Estimating biases using als...\n",
      "Estimating biases using als...\n"
     ]
    },
    {
     "data": {
      "text/html": [
       "<div>\n",
       "<style scoped>\n",
       "    .dataframe tbody tr th:only-of-type {\n",
       "        vertical-align: middle;\n",
       "    }\n",
       "\n",
       "    .dataframe tbody tr th {\n",
       "        vertical-align: top;\n",
       "    }\n",
       "\n",
       "    .dataframe thead th {\n",
       "        text-align: right;\n",
       "    }\n",
       "</style>\n",
       "<table border=\"1\" class=\"dataframe\">\n",
       "  <thead>\n",
       "    <tr style=\"text-align: right;\">\n",
       "      <th></th>\n",
       "      <th>test_rmse</th>\n",
       "      <th>fit_time</th>\n",
       "      <th>test_time</th>\n",
       "    </tr>\n",
       "    <tr>\n",
       "      <th>Algorithm</th>\n",
       "      <th></th>\n",
       "      <th></th>\n",
       "      <th></th>\n",
       "    </tr>\n",
       "  </thead>\n",
       "  <tbody>\n",
       "    <tr>\n",
       "      <th>BaselineOnly</th>\n",
       "      <td>0.683965</td>\n",
       "      <td>5.814223</td>\n",
       "      <td>2.830109</td>\n",
       "    </tr>\n",
       "    <tr>\n",
       "      <th>SVD</th>\n",
       "      <td>0.687877</td>\n",
       "      <td>45.645343</td>\n",
       "      <td>3.686463</td>\n",
       "    </tr>\n",
       "    <tr>\n",
       "      <th>NMF</th>\n",
       "      <td>0.862362</td>\n",
       "      <td>88.629795</td>\n",
       "      <td>3.283360</td>\n",
       "    </tr>\n",
       "    <tr>\n",
       "      <th>NormalPredictor</th>\n",
       "      <td>0.909657</td>\n",
       "      <td>1.643114</td>\n",
       "      <td>3.257455</td>\n",
       "    </tr>\n",
       "  </tbody>\n",
       "</table>\n",
       "</div>"
      ],
      "text/plain": [
       "                 test_rmse   fit_time  test_time\n",
       "Algorithm                                       \n",
       "BaselineOnly      0.683965   5.814223   2.830109\n",
       "SVD               0.687877  45.645343   3.686463\n",
       "NMF               0.862362  88.629795   3.283360\n",
       "NormalPredictor   0.909657   1.643114   3.257455"
      ]
     },
     "execution_count": 4,
     "metadata": {},
     "output_type": "execute_result"
    }
   ],
   "source": [
    "algorithms = [SVD(), NMF(), NormalPredictor(), BaselineOnly()]\n",
    "get_benchmark(data, algorithms)"
   ]
  },
  {
   "cell_type": "markdown",
   "id": "24bfd7fb",
   "metadata": {},
   "source": [
    "The `BaselineOnly()` model gives us the best test RMSE. We will use it to build our final model."
   ]
  },
  {
   "cell_type": "markdown",
   "id": "c4eeda61",
   "metadata": {},
   "source": [
    "### Build model"
   ]
  },
  {
   "cell_type": "code",
   "execution_count": 5,
   "id": "e9c530c4",
   "metadata": {},
   "outputs": [
    {
     "name": "stdout",
     "output_type": "stream",
     "text": [
      "Using ALS\n",
      "Estimating biases using als...\n",
      "Estimating biases using als...\n",
      "Estimating biases using als...\n"
     ]
    },
    {
     "data": {
      "text/plain": [
       "{'test_rmse': array([0.68373213, 0.68268261, 0.68541837]),\n",
       " 'fit_time': (2.939826011657715, 3.5368618965148926, 3.351400136947632),\n",
       " 'test_time': (3.5641400814056396, 3.306881904602051, 3.550987958908081)}"
      ]
     },
     "execution_count": 5,
     "metadata": {},
     "output_type": "execute_result"
    }
   ],
   "source": [
    "print(\"Using ALS\")\n",
    "bsl_options = {\"method\": \"als\",\n",
    "               \"n_epochs\": 5,\n",
    "               \"reg_u\": 12,\n",
    "               \"reg_i\": 5}\n",
    "algo = BaselineOnly(bsl_options=bsl_options)\n",
    "cross_validate(algo, data, measures=[\"RMSE\"], cv=3, verbose=False)"
   ]
  },
  {
   "cell_type": "markdown",
   "id": "2b36dafb",
   "metadata": {},
   "source": [
    "### Make predictions"
   ]
  },
  {
   "cell_type": "code",
   "execution_count": 6,
   "id": "18e94442",
   "metadata": {},
   "outputs": [
    {
     "name": "stdout",
     "output_type": "stream",
     "text": [
      "Estimating biases using als...\n",
      "RMSE: 0.6857\n"
     ]
    },
    {
     "data": {
      "text/plain": [
       "0.6857315080508238"
      ]
     },
     "execution_count": 6,
     "metadata": {},
     "output_type": "execute_result"
    }
   ],
   "source": [
    "trainset, testset = train_test_split(data, test_size=0.25)\n",
    "algo = BaselineOnly(bsl_options=bsl_options)\n",
    "predictions = algo.fit(trainset).test(testset)\n",
    "accuracy.rmse(predictions)"
   ]
  },
  {
   "cell_type": "markdown",
   "id": "28e54c65",
   "metadata": {},
   "source": [
    "### Evaulate model"
   ]
  },
  {
   "cell_type": "code",
   "execution_count": 7,
   "id": "a3793e04",
   "metadata": {},
   "outputs": [],
   "source": [
    "# Predictions for all users\n",
    "df_predictions = make_predictions_df(predictions, trainset)\n",
    "best_predictions = df_predictions.sort_values(by=\"err\")[:10]\n",
    "worst_predictions = df_predictions.sort_values(by=\"err\")[-10:]"
   ]
  },
  {
   "cell_type": "code",
   "execution_count": 8,
   "id": "d2a099f1",
   "metadata": {},
   "outputs": [
    {
     "data": {
      "text/html": [
       "<div>\n",
       "<style scoped>\n",
       "    .dataframe tbody tr th:only-of-type {\n",
       "        vertical-align: middle;\n",
       "    }\n",
       "\n",
       "    .dataframe tbody tr th {\n",
       "        vertical-align: top;\n",
       "    }\n",
       "\n",
       "    .dataframe thead th {\n",
       "        text-align: right;\n",
       "    }\n",
       "</style>\n",
       "<table border=\"1\" class=\"dataframe\">\n",
       "  <thead>\n",
       "    <tr style=\"text-align: right;\">\n",
       "      <th></th>\n",
       "      <th>uid</th>\n",
       "      <th>iid</th>\n",
       "      <th>rui</th>\n",
       "      <th>est</th>\n",
       "      <th>details</th>\n",
       "      <th>Iu</th>\n",
       "      <th>Ui</th>\n",
       "      <th>err</th>\n",
       "    </tr>\n",
       "  </thead>\n",
       "  <tbody>\n",
       "    <tr>\n",
       "      <th>21887</th>\n",
       "      <td>48138</td>\n",
       "      <td>6532.0</td>\n",
       "      <td>5.0</td>\n",
       "      <td>5.0</td>\n",
       "      <td>{'was_impossible': False}</td>\n",
       "      <td>125</td>\n",
       "      <td>128</td>\n",
       "      <td>0.0</td>\n",
       "    </tr>\n",
       "    <tr>\n",
       "      <th>36295</th>\n",
       "      <td>135817</td>\n",
       "      <td>224778.0</td>\n",
       "      <td>5.0</td>\n",
       "      <td>5.0</td>\n",
       "      <td>{'was_impossible': False}</td>\n",
       "      <td>38</td>\n",
       "      <td>31</td>\n",
       "      <td>0.0</td>\n",
       "    </tr>\n",
       "    <tr>\n",
       "      <th>223286</th>\n",
       "      <td>4189</td>\n",
       "      <td>18561.0</td>\n",
       "      <td>5.0</td>\n",
       "      <td>5.0</td>\n",
       "      <td>{'was_impossible': False}</td>\n",
       "      <td>103</td>\n",
       "      <td>2</td>\n",
       "      <td>0.0</td>\n",
       "    </tr>\n",
       "    <tr>\n",
       "      <th>104624</th>\n",
       "      <td>18955</td>\n",
       "      <td>58142.0</td>\n",
       "      <td>5.0</td>\n",
       "      <td>5.0</td>\n",
       "      <td>{'was_impossible': False}</td>\n",
       "      <td>956</td>\n",
       "      <td>24</td>\n",
       "      <td>0.0</td>\n",
       "    </tr>\n",
       "    <tr>\n",
       "      <th>188189</th>\n",
       "      <td>562</td>\n",
       "      <td>179457.0</td>\n",
       "      <td>5.0</td>\n",
       "      <td>5.0</td>\n",
       "      <td>{'was_impossible': False}</td>\n",
       "      <td>1108</td>\n",
       "      <td>8</td>\n",
       "      <td>0.0</td>\n",
       "    </tr>\n",
       "    <tr>\n",
       "      <th>223267</th>\n",
       "      <td>59962</td>\n",
       "      <td>37087.0</td>\n",
       "      <td>5.0</td>\n",
       "      <td>5.0</td>\n",
       "      <td>{'was_impossible': False}</td>\n",
       "      <td>14</td>\n",
       "      <td>5</td>\n",
       "      <td>0.0</td>\n",
       "    </tr>\n",
       "    <tr>\n",
       "      <th>104627</th>\n",
       "      <td>28386</td>\n",
       "      <td>162296.0</td>\n",
       "      <td>5.0</td>\n",
       "      <td>5.0</td>\n",
       "      <td>{'was_impossible': False}</td>\n",
       "      <td>590</td>\n",
       "      <td>11</td>\n",
       "      <td>0.0</td>\n",
       "    </tr>\n",
       "    <tr>\n",
       "      <th>104655</th>\n",
       "      <td>72610</td>\n",
       "      <td>172882.0</td>\n",
       "      <td>5.0</td>\n",
       "      <td>5.0</td>\n",
       "      <td>{'was_impossible': False}</td>\n",
       "      <td>64</td>\n",
       "      <td>17</td>\n",
       "      <td>0.0</td>\n",
       "    </tr>\n",
       "    <tr>\n",
       "      <th>104681</th>\n",
       "      <td>11934</td>\n",
       "      <td>84057.0</td>\n",
       "      <td>5.0</td>\n",
       "      <td>5.0</td>\n",
       "      <td>{'was_impossible': False}</td>\n",
       "      <td>436</td>\n",
       "      <td>67</td>\n",
       "      <td>0.0</td>\n",
       "    </tr>\n",
       "    <tr>\n",
       "      <th>223232</th>\n",
       "      <td>6498</td>\n",
       "      <td>16795.0</td>\n",
       "      <td>5.0</td>\n",
       "      <td>5.0</td>\n",
       "      <td>{'was_impossible': False}</td>\n",
       "      <td>115</td>\n",
       "      <td>294</td>\n",
       "      <td>0.0</td>\n",
       "    </tr>\n",
       "  </tbody>\n",
       "</table>\n",
       "</div>"
      ],
      "text/plain": [
       "           uid       iid  rui  est                    details    Iu   Ui  err\n",
       "21887    48138    6532.0  5.0  5.0  {'was_impossible': False}   125  128  0.0\n",
       "36295   135817  224778.0  5.0  5.0  {'was_impossible': False}    38   31  0.0\n",
       "223286    4189   18561.0  5.0  5.0  {'was_impossible': False}   103    2  0.0\n",
       "104624   18955   58142.0  5.0  5.0  {'was_impossible': False}   956   24  0.0\n",
       "188189     562  179457.0  5.0  5.0  {'was_impossible': False}  1108    8  0.0\n",
       "223267   59962   37087.0  5.0  5.0  {'was_impossible': False}    14    5  0.0\n",
       "104627   28386  162296.0  5.0  5.0  {'was_impossible': False}   590   11  0.0\n",
       "104655   72610  172882.0  5.0  5.0  {'was_impossible': False}    64   17  0.0\n",
       "104681   11934   84057.0  5.0  5.0  {'was_impossible': False}   436   67  0.0\n",
       "223232    6498   16795.0  5.0  5.0  {'was_impossible': False}   115  294  0.0"
      ]
     },
     "execution_count": 8,
     "metadata": {},
     "output_type": "execute_result"
    }
   ],
   "source": [
    "best_predictions"
   ]
  },
  {
   "cell_type": "code",
   "execution_count": 9,
   "id": "1a6cf4d5",
   "metadata": {},
   "outputs": [
    {
     "data": {
      "text/html": [
       "<div>\n",
       "<style scoped>\n",
       "    .dataframe tbody tr th:only-of-type {\n",
       "        vertical-align: middle;\n",
       "    }\n",
       "\n",
       "    .dataframe tbody tr th {\n",
       "        vertical-align: top;\n",
       "    }\n",
       "\n",
       "    .dataframe thead th {\n",
       "        text-align: right;\n",
       "    }\n",
       "</style>\n",
       "<table border=\"1\" class=\"dataframe\">\n",
       "  <thead>\n",
       "    <tr style=\"text-align: right;\">\n",
       "      <th></th>\n",
       "      <th>uid</th>\n",
       "      <th>iid</th>\n",
       "      <th>rui</th>\n",
       "      <th>est</th>\n",
       "      <th>details</th>\n",
       "      <th>Iu</th>\n",
       "      <th>Ui</th>\n",
       "      <th>err</th>\n",
       "    </tr>\n",
       "  </thead>\n",
       "  <tbody>\n",
       "    <tr>\n",
       "      <th>51332</th>\n",
       "      <td>18599</td>\n",
       "      <td>98786.0</td>\n",
       "      <td>1.0</td>\n",
       "      <td>4.969185</td>\n",
       "      <td>{'was_impossible': False}</td>\n",
       "      <td>950</td>\n",
       "      <td>10</td>\n",
       "      <td>3.969185</td>\n",
       "    </tr>\n",
       "    <tr>\n",
       "      <th>188452</th>\n",
       "      <td>45683</td>\n",
       "      <td>46226.0</td>\n",
       "      <td>1.0</td>\n",
       "      <td>4.971837</td>\n",
       "      <td>{'was_impossible': False}</td>\n",
       "      <td>36</td>\n",
       "      <td>63</td>\n",
       "      <td>3.971837</td>\n",
       "    </tr>\n",
       "    <tr>\n",
       "      <th>260837</th>\n",
       "      <td>9672</td>\n",
       "      <td>101522.0</td>\n",
       "      <td>1.0</td>\n",
       "      <td>4.984830</td>\n",
       "      <td>{'was_impossible': False}</td>\n",
       "      <td>24</td>\n",
       "      <td>5</td>\n",
       "      <td>3.984830</td>\n",
       "    </tr>\n",
       "    <tr>\n",
       "      <th>64815</th>\n",
       "      <td>156615</td>\n",
       "      <td>198546.0</td>\n",
       "      <td>1.0</td>\n",
       "      <td>4.990164</td>\n",
       "      <td>{'was_impossible': False}</td>\n",
       "      <td>0</td>\n",
       "      <td>8</td>\n",
       "      <td>3.990164</td>\n",
       "    </tr>\n",
       "    <tr>\n",
       "      <th>265083</th>\n",
       "      <td>12545</td>\n",
       "      <td>27703.0</td>\n",
       "      <td>1.0</td>\n",
       "      <td>4.994936</td>\n",
       "      <td>{'was_impossible': False}</td>\n",
       "      <td>16</td>\n",
       "      <td>11</td>\n",
       "      <td>3.994936</td>\n",
       "    </tr>\n",
       "    <tr>\n",
       "      <th>182299</th>\n",
       "      <td>9919</td>\n",
       "      <td>43824.0</td>\n",
       "      <td>1.0</td>\n",
       "      <td>4.995110</td>\n",
       "      <td>{'was_impossible': False}</td>\n",
       "      <td>14</td>\n",
       "      <td>14</td>\n",
       "      <td>3.995110</td>\n",
       "    </tr>\n",
       "    <tr>\n",
       "      <th>22371</th>\n",
       "      <td>67404</td>\n",
       "      <td>59578.0</td>\n",
       "      <td>1.0</td>\n",
       "      <td>4.998880</td>\n",
       "      <td>{'was_impossible': False}</td>\n",
       "      <td>78</td>\n",
       "      <td>151</td>\n",
       "      <td>3.998880</td>\n",
       "    </tr>\n",
       "    <tr>\n",
       "      <th>132470</th>\n",
       "      <td>35180</td>\n",
       "      <td>158195.0</td>\n",
       "      <td>1.0</td>\n",
       "      <td>5.000000</td>\n",
       "      <td>{'was_impossible': False}</td>\n",
       "      <td>11</td>\n",
       "      <td>18</td>\n",
       "      <td>4.000000</td>\n",
       "    </tr>\n",
       "    <tr>\n",
       "      <th>199915</th>\n",
       "      <td>30811</td>\n",
       "      <td>18229.0</td>\n",
       "      <td>1.0</td>\n",
       "      <td>5.000000</td>\n",
       "      <td>{'was_impossible': False}</td>\n",
       "      <td>89</td>\n",
       "      <td>251</td>\n",
       "      <td>4.000000</td>\n",
       "    </tr>\n",
       "    <tr>\n",
       "      <th>113391</th>\n",
       "      <td>3213</td>\n",
       "      <td>53183.0</td>\n",
       "      <td>1.0</td>\n",
       "      <td>5.000000</td>\n",
       "      <td>{'was_impossible': False}</td>\n",
       "      <td>384</td>\n",
       "      <td>23</td>\n",
       "      <td>4.000000</td>\n",
       "    </tr>\n",
       "  </tbody>\n",
       "</table>\n",
       "</div>"
      ],
      "text/plain": [
       "           uid       iid  rui       est                    details   Iu   Ui  \\\n",
       "51332    18599   98786.0  1.0  4.969185  {'was_impossible': False}  950   10   \n",
       "188452   45683   46226.0  1.0  4.971837  {'was_impossible': False}   36   63   \n",
       "260837    9672  101522.0  1.0  4.984830  {'was_impossible': False}   24    5   \n",
       "64815   156615  198546.0  1.0  4.990164  {'was_impossible': False}    0    8   \n",
       "265083   12545   27703.0  1.0  4.994936  {'was_impossible': False}   16   11   \n",
       "182299    9919   43824.0  1.0  4.995110  {'was_impossible': False}   14   14   \n",
       "22371    67404   59578.0  1.0  4.998880  {'was_impossible': False}   78  151   \n",
       "132470   35180  158195.0  1.0  5.000000  {'was_impossible': False}   11   18   \n",
       "199915   30811   18229.0  1.0  5.000000  {'was_impossible': False}   89  251   \n",
       "113391    3213   53183.0  1.0  5.000000  {'was_impossible': False}  384   23   \n",
       "\n",
       "             err  \n",
       "51332   3.969185  \n",
       "188452  3.971837  \n",
       "260837  3.984830  \n",
       "64815   3.990164  \n",
       "265083  3.994936  \n",
       "182299  3.995110  \n",
       "22371   3.998880  \n",
       "132470  4.000000  \n",
       "199915  4.000000  \n",
       "113391  4.000000  "
      ]
     },
     "execution_count": 9,
     "metadata": {},
     "output_type": "execute_result"
    }
   ],
   "source": [
    "worst_predictions"
   ]
  },
  {
   "cell_type": "markdown",
   "id": "95147b8f",
   "metadata": {},
   "source": [
    "Upon inspection of the worst predictions, a general trend we see is that the users for these predictions have given outlying ratings for recipes that tend to lean in a different direction. We also see that for our best predictions, the recipes tend to have a consistent rating. You can uncomment the code below to try it yourself."
   ]
  },
  {
   "cell_type": "code",
   "execution_count": 10,
   "id": "417ef52a",
   "metadata": {},
   "outputs": [],
   "source": [
    "# inspect_results(interactions, recipe_id=24068, user_id=63861)"
   ]
  },
  {
   "cell_type": "markdown",
   "id": "9c57e45f",
   "metadata": {},
   "source": [
    "### Determine optimal number of recipes"
   ]
  },
  {
   "cell_type": "markdown",
   "id": "b7c2c1eb",
   "metadata": {},
   "source": [
    "To determine the optimal number of recipes to recommend to users, we first need to calculate the precision and recall for each user. We set the maximum possible number of recommendations at 10 and a threshold of 3.5. From the precision and recall curves, recall seems to dramatically decline if we go below $k=3$, at which point we also do not see significant increase in precision. Therefore, we will recommend 3 recipes to each user."
   ]
  },
  {
   "cell_type": "code",
   "execution_count": 11,
   "id": "19345eae",
   "metadata": {},
   "outputs": [
    {
     "data": {
      "image/png": "[encoded data removed]",
      "text/plain": [
       "<Figure size 432x288 with 2 Axes>"
      ]
     },
     "metadata": {},
     "output_type": "display_data"
    }
   ],
   "source": [
    "pr_ks = get_pr_ks(predictions)\n",
    "plot_prs(pr_ks)"
   ]
  },
  {
   "cell_type": "markdown",
   "id": "c7bb87bd",
   "metadata": {},
   "source": [
    "### Make recommendations"
   ]
  },
  {
   "cell_type": "markdown",
   "id": "71e676b0",
   "metadata": {},
   "source": [
    "We start by providing a `user_id` and a few `recipe_id`s the user has rated. We will use these rating as ground truth labels and help us predict which other recipes the user would rate highly. Try it below yourself!"
   ]
  },
  {
   "cell_type": "code",
   "execution_count": 12,
   "id": "45a50900",
   "metadata": {},
   "outputs": [
    {
     "data": {
      "text/html": [
       "<div>\n",
       "<style scoped>\n",
       "    .dataframe tbody tr th:only-of-type {\n",
       "        vertical-align: middle;\n",
       "    }\n",
       "\n",
       "    .dataframe tbody tr th {\n",
       "        vertical-align: top;\n",
       "    }\n",
       "\n",
       "    .dataframe thead th {\n",
       "        text-align: right;\n",
       "    }\n",
       "</style>\n",
       "<table border=\"1\" class=\"dataframe\">\n",
       "  <thead>\n",
       "    <tr style=\"text-align: right;\">\n",
       "      <th></th>\n",
       "      <th>name</th>\n",
       "      <th>id</th>\n",
       "      <th>minutes</th>\n",
       "      <th>contributor_id</th>\n",
       "      <th>submitted</th>\n",
       "      <th>tags</th>\n",
       "      <th>nutrition</th>\n",
       "      <th>n_steps</th>\n",
       "      <th>steps</th>\n",
       "      <th>description</th>\n",
       "      <th>ingredients</th>\n",
       "      <th>n_ingredients</th>\n",
       "    </tr>\n",
       "  </thead>\n",
       "  <tbody>\n",
       "    <tr>\n",
       "      <th>47402</th>\n",
       "      <td>Chilean Salsa</td>\n",
       "      <td>36551</td>\n",
       "      <td>25</td>\n",
       "      <td>37779</td>\n",
       "      <td>2003-06-05</td>\n",
       "      <td>[lactose, 30-minutes-or-less, time-to-make, co...</td>\n",
       "      <td>[374.3, 43.0, 62.0, 73.0, 11.0, 18.0, 9.0]</td>\n",
       "      <td>4</td>\n",
       "      <td>[in a mortar , crush the garlic , chile pepper...</td>\n",
       "      <td>after trying this salsa, it is hard to go back...</td>\n",
       "      <td>[garlic cloves, green serrano chilies, sea sal...</td>\n",
       "      <td>9</td>\n",
       "    </tr>\n",
       "    <tr>\n",
       "      <th>106461</th>\n",
       "      <td>Homemade Condensed Cream Of Chicken Or Mushroo...</td>\n",
       "      <td>198546</td>\n",
       "      <td>20</td>\n",
       "      <td>314785</td>\n",
       "      <td>2009-11-03</td>\n",
       "      <td>[30-minutes-or-less, time-to-make, course, pre...</td>\n",
       "      <td>[106.7, 4.0, 0.0, 13.0, 9.0, 7.0, 5.0]</td>\n",
       "      <td>10</td>\n",
       "      <td>[in medium-sized saucepan , boil chicken broth...</td>\n",
       "      <td>you have these ingredients already.  so save y...</td>\n",
       "      <td>[chicken broth, poultry, onion powder, garlic ...</td>\n",
       "      <td>10</td>\n",
       "    </tr>\n",
       "    <tr>\n",
       "      <th>156974</th>\n",
       "      <td>Pecan Crusted Ice Cream Pie With Caramel Sauce</td>\n",
       "      <td>35756</td>\n",
       "      <td>45</td>\n",
       "      <td>29063</td>\n",
       "      <td>2003-05-20</td>\n",
       "      <td>[60-minutes-or-less, time-to-make, course, mai...</td>\n",
       "      <td>[451.6, 37.0, 188.0, 5.0, 10.0, 61.0, 19.0]</td>\n",
       "      <td>8</td>\n",
       "      <td>[preheat oven to 400 degrees f, to make crust ...</td>\n",
       "      <td>found this in our paper... haven't tried it ye...</td>\n",
       "      <td>[egg white, sugar, pecans, coffee ice cream, f...</td>\n",
       "      <td>11</td>\n",
       "    </tr>\n",
       "  </tbody>\n",
       "</table>\n",
       "</div>"
      ],
      "text/plain": [
       "                                                     name      id  minutes  \\\n",
       "47402                                       Chilean Salsa   36551       25   \n",
       "106461  Homemade Condensed Cream Of Chicken Or Mushroo...  198546       20   \n",
       "156974     Pecan Crusted Ice Cream Pie With Caramel Sauce   35756       45   \n",
       "\n",
       "        contributor_id   submitted  \\\n",
       "47402            37779  2003-06-05   \n",
       "106461          314785  2009-11-03   \n",
       "156974           29063  2003-05-20   \n",
       "\n",
       "                                                     tags  \\\n",
       "47402   [lactose, 30-minutes-or-less, time-to-make, co...   \n",
       "106461  [30-minutes-or-less, time-to-make, course, pre...   \n",
       "156974  [60-minutes-or-less, time-to-make, course, mai...   \n",
       "\n",
       "                                          nutrition  n_steps  \\\n",
       "47402    [374.3, 43.0, 62.0, 73.0, 11.0, 18.0, 9.0]        4   \n",
       "106461       [106.7, 4.0, 0.0, 13.0, 9.0, 7.0, 5.0]       10   \n",
       "156974  [451.6, 37.0, 188.0, 5.0, 10.0, 61.0, 19.0]        8   \n",
       "\n",
       "                                                    steps  \\\n",
       "47402   [in a mortar , crush the garlic , chile pepper...   \n",
       "106461  [in medium-sized saucepan , boil chicken broth...   \n",
       "156974  [preheat oven to 400 degrees f, to make crust ...   \n",
       "\n",
       "                                              description  \\\n",
       "47402   after trying this salsa, it is hard to go back...   \n",
       "106461  you have these ingredients already.  so save y...   \n",
       "156974  found this in our paper... haven't tried it ye...   \n",
       "\n",
       "                                              ingredients  n_ingredients  \n",
       "47402   [garlic cloves, green serrano chilies, sea sal...              9  \n",
       "106461  [chicken broth, poultry, onion powder, garlic ...             10  \n",
       "156974  [egg white, sugar, pecans, coffee ice cream, f...             11  "
      ]
     },
     "execution_count": 12,
     "metadata": {},
     "output_type": "execute_result"
    }
   ],
   "source": [
    "uid = 4470 # User ID\n",
    "iids = [23739, 24549, 8103] # Recipe IDs\n",
    "\n",
    "recommend(uid, iids, recipes, algo)"
   ]
  },
  {
   "cell_type": "markdown",
   "id": "c87a7a5f",
   "metadata": {},
   "source": [
    "### Conclusion"
   ]
  },
  {
   "cell_type": "markdown",
   "id": "c9c35e59",
   "metadata": {},
   "source": [
    "With model-based recommenders, we try to compute latent factors that would give rise to the user-item matrix, then use these factors to predict the rating a user would give to a recipe that they have not previously rated. Similar to the memory-based algorithm, the model-based algorithm also works with ratings, and we need to take data sparsity into account before we choose a model. Out of all methods we explore in this project, the model-based algorithm is the least interpretable. However, it is able to recommend a diverse range of recipes to users without using a huge amount of memory."
   ]
  }
 ],
 "metadata": {
  "kernelspec": {
   "display_name": "conda_python3",
   "language": "python",
   "name": "conda_python3"
  },
  "language_info": {
   "codemirror_mode": {
    "name": "ipython",
    "version": 3
   },
   "file_extension": ".py",
   "mimetype": "text/x-python",
   "name": "python",
   "nbconvert_exporter": "python",
   "pygments_lexer": "ipython3",
   "version": "3.6.13"
  }
 },
 "nbformat": 4,
 "nbformat_minor": 5
}
