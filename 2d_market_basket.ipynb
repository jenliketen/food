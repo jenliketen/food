{
 "cells": [
  {
   "cell_type": "markdown",
   "id": "2bb27280",
   "metadata": {},
   "source": [
    "# FOOD RECIPE RECOMMENDATION ENGINE"
   ]
  },
  {
   "cell_type": "markdown",
   "id": "2d128079",
   "metadata": {},
   "source": [
    "## Part 2d: Market Basket Analysis"
   ]
  },
  {
   "cell_type": "code",
   "execution_count": 1,
   "id": "06d9e886",
   "metadata": {},
   "outputs": [],
   "source": [
    "import pandas as pd\n",
    "from mlxtend.frequent_patterns import association_rules, apriori\n",
    "from src.market_basket import *"
   ]
  },
  {
   "cell_type": "markdown",
   "id": "712cbb43",
   "metadata": {},
   "source": [
    "### Load data"
   ]
  },
  {
   "cell_type": "code",
   "execution_count": 2,
   "id": "d4e84cce",
   "metadata": {},
   "outputs": [],
   "source": [
    "# Load recipes\n",
    "recipes = pd.read_feather(\"./data/recipes.feather\")\n",
    "\n",
    "# Load interactions\n",
    "interactions = pd.read_feather(\"./data/interactions.feather\")"
   ]
  },
  {
   "cell_type": "code",
   "execution_count": 3,
   "id": "c7e7cb3f",
   "metadata": {},
   "outputs": [],
   "source": [
    "filtered_ratings = filter_ratings(interactions, n1=100, n2=100) # Only keep recipes with 100+ ratings and users who have rated 100+ recipes\n",
    "filtered_ratings = map_recipes(recipes, filtered_ratings) # Only keep user IDs and recipe names"
   ]
  },
  {
   "cell_type": "code",
   "execution_count": 4,
   "id": "af3c9aac",
   "metadata": {},
   "outputs": [],
   "source": [
    "# One-hot encoding\n",
    "onehot = filtered_ratings.pivot_table(index=\"user_id\", columns=\"recipe_name\", aggfunc=len, fill_value=0)\n",
    "onehot = onehot > 0 # Returns \"True\" if there exists a user-recipe interaction and \"False\" otherwise"
   ]
  },
  {
   "cell_type": "markdown",
   "id": "32f07a57",
   "metadata": {},
   "source": [
    "### Create association rules"
   ]
  },
  {
   "cell_type": "markdown",
   "id": "63ddec53",
   "metadata": {},
   "source": [
    "We will use the `apriori` algorithm to generate association rules. We can more or less understand from some the names of the `antecedents` and `consequents` why they are associated together. For example, `Quick Cinnamon Rolls No Yeast` is associated with `Mean's Dutch Babies` (both are desserts), and `Paula Deen Crock Pot Macaroni And Cheese` is associated with `Slow Cooker Macaroni Cheese` (both are mac 'n cheese)."
   ]
  },
  {
   "cell_type": "code",
   "execution_count": 5,
   "id": "afd300cb",
   "metadata": {},
   "outputs": [],
   "source": [
    "frequent_itemsets = apriori(onehot, min_support=0.00001, max_len=2, use_colnames=True) # Compute frequent items\n",
    "rules = association_rules(frequent_itemsets) # Create association rules"
   ]
  },
  {
   "cell_type": "markdown",
   "id": "ab354624",
   "metadata": {},
   "source": [
    "If a person decides to make `Bacon Lattice Tomato Muffins Rsc`, we will recommend the five recipes in the `consequents` column."
   ]
  },
  {
   "cell_type": "markdown",
   "id": "3c8dc1b4",
   "metadata": {},
   "source": [
    "### Make recommendations"
   ]
  },
  {
   "cell_type": "code",
   "execution_count": 6,
   "id": "f494de0e",
   "metadata": {},
   "outputs": [
    {
     "data": {
      "text/html": [
       "<div>\n",
       "<style scoped>\n",
       "    .dataframe tbody tr th:only-of-type {\n",
       "        vertical-align: middle;\n",
       "    }\n",
       "\n",
       "    .dataframe tbody tr th {\n",
       "        vertical-align: top;\n",
       "    }\n",
       "\n",
       "    .dataframe thead th {\n",
       "        text-align: right;\n",
       "    }\n",
       "</style>\n",
       "<table border=\"1\" class=\"dataframe\">\n",
       "  <thead>\n",
       "    <tr style=\"text-align: right;\">\n",
       "      <th></th>\n",
       "      <th>antecedents</th>\n",
       "      <th>consequents</th>\n",
       "      <th>antecedent support</th>\n",
       "      <th>consequent support</th>\n",
       "      <th>support</th>\n",
       "      <th>confidence</th>\n",
       "      <th>lift</th>\n",
       "      <th>leverage</th>\n",
       "      <th>conviction</th>\n",
       "    </tr>\n",
       "  </thead>\n",
       "  <tbody>\n",
       "    <tr>\n",
       "      <th>347</th>\n",
       "      <td>(Bacon Lattice Tomato Muffins Rsc)</td>\n",
       "      <td>(Mile High Cabbage Pie 5fix)</td>\n",
       "      <td>0.00073</td>\n",
       "      <td>0.002920</td>\n",
       "      <td>0.00073</td>\n",
       "      <td>1.0</td>\n",
       "      <td>342.500000</td>\n",
       "      <td>0.000728</td>\n",
       "      <td>inf</td>\n",
       "    </tr>\n",
       "    <tr>\n",
       "      <th>293</th>\n",
       "      <td>(Bacon Lattice Tomato Muffins Rsc)</td>\n",
       "      <td>(Kittencal's Caramel Apples)</td>\n",
       "      <td>0.00073</td>\n",
       "      <td>0.006569</td>\n",
       "      <td>0.00073</td>\n",
       "      <td>1.0</td>\n",
       "      <td>152.222222</td>\n",
       "      <td>0.000725</td>\n",
       "      <td>inf</td>\n",
       "    </tr>\n",
       "    <tr>\n",
       "      <th>343</th>\n",
       "      <td>(Bacon Lattice Tomato Muffins Rsc)</td>\n",
       "      <td>(Mexican Stack Up Rsc)</td>\n",
       "      <td>0.00073</td>\n",
       "      <td>0.007299</td>\n",
       "      <td>0.00073</td>\n",
       "      <td>1.0</td>\n",
       "      <td>137.000000</td>\n",
       "      <td>0.000725</td>\n",
       "      <td>inf</td>\n",
       "    </tr>\n",
       "    <tr>\n",
       "      <th>489</th>\n",
       "      <td>(Bacon Lattice Tomato Muffins Rsc)</td>\n",
       "      <td>(Sweet Bacon Wrapped Venison Tenderloin)</td>\n",
       "      <td>0.00073</td>\n",
       "      <td>0.008029</td>\n",
       "      <td>0.00073</td>\n",
       "      <td>1.0</td>\n",
       "      <td>124.545455</td>\n",
       "      <td>0.000724</td>\n",
       "      <td>inf</td>\n",
       "    </tr>\n",
       "    <tr>\n",
       "      <th>357</th>\n",
       "      <td>(Bacon Lattice Tomato Muffins Rsc)</td>\n",
       "      <td>(N Y C Corned Beef And Cabbage)</td>\n",
       "      <td>0.00073</td>\n",
       "      <td>0.008759</td>\n",
       "      <td>0.00073</td>\n",
       "      <td>1.0</td>\n",
       "      <td>114.166667</td>\n",
       "      <td>0.000724</td>\n",
       "      <td>inf</td>\n",
       "    </tr>\n",
       "  </tbody>\n",
       "</table>\n",
       "</div>"
      ],
      "text/plain": [
       "                            antecedents  \\\n",
       "347  (Bacon Lattice Tomato Muffins Rsc)   \n",
       "293  (Bacon Lattice Tomato Muffins Rsc)   \n",
       "343  (Bacon Lattice Tomato Muffins Rsc)   \n",
       "489  (Bacon Lattice Tomato Muffins Rsc)   \n",
       "357  (Bacon Lattice Tomato Muffins Rsc)   \n",
       "\n",
       "                                  consequents  antecedent support  \\\n",
       "347              (Mile High Cabbage Pie 5fix)             0.00073   \n",
       "293              (Kittencal's Caramel Apples)             0.00073   \n",
       "343                    (Mexican Stack Up Rsc)             0.00073   \n",
       "489  (Sweet Bacon Wrapped Venison Tenderloin)             0.00073   \n",
       "357           (N Y C Corned Beef And Cabbage)             0.00073   \n",
       "\n",
       "     consequent support  support  confidence        lift  leverage  conviction  \n",
       "347            0.002920  0.00073         1.0  342.500000  0.000728         inf  \n",
       "293            0.006569  0.00073         1.0  152.222222  0.000725         inf  \n",
       "343            0.007299  0.00073         1.0  137.000000  0.000725         inf  \n",
       "489            0.008029  0.00073         1.0  124.545455  0.000724         inf  \n",
       "357            0.008759  0.00073         1.0  114.166667  0.000724         inf  "
      ]
     },
     "execution_count": 6,
     "metadata": {},
     "output_type": "execute_result"
    }
   ],
   "source": [
    "recipe = \"Bacon Lattice Tomato Muffins Rsc\"\n",
    "rules[rules.antecedents.apply(str).str.contains(recipe)].sort_values('lift', ascending=False).head(5)"
   ]
  },
  {
   "cell_type": "markdown",
   "id": "e661d3cf",
   "metadata": {},
   "source": [
    "### Conclusion"
   ]
  },
  {
   "cell_type": "markdown",
   "id": "686e421d",
   "metadata": {},
   "source": [
    "The problem with market basket analysis for this dataset is that we do not have enough information to come up with frequent itemsets even with a very small `min_support`. Most recipes are not frequently used with other recipes, and most recipe pairs are not used by enough users. However, market basket analysis is a very interpretable method that that could work really well with restaurant menus, as we would be more likely to discover frequent buying patterns there."
   ]
  }
 ],
 "metadata": {
  "kernelspec": {
   "display_name": "conda_python3",
   "language": "python",
   "name": "conda_python3"
  },
  "language_info": {
   "codemirror_mode": {
    "name": "ipython",
    "version": 3
   },
   "file_extension": ".py",
   "mimetype": "text/x-python",
   "name": "python",
   "nbconvert_exporter": "python",
   "pygments_lexer": "ipython3",
   "version": "3.6.13"
  }
 },
 "nbformat": 4,
 "nbformat_minor": 5
}
