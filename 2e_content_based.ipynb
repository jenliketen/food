{
 "cells": [
  {
   "cell_type": "markdown",
   "id": "313115e0",
   "metadata": {},
   "source": [
    "# FOOD RECIPE RECOMMENDATION ENGINE"
   ]
  },
  {
   "cell_type": "markdown",
   "id": "f5959d32",
   "metadata": {},
   "source": [
    "## Part 2d: Market Basket Analysis"
   ]
  },
  {
   "cell_type": "code",
   "execution_count": 1,
   "id": "1ea97f5c",
   "metadata": {},
   "outputs": [],
   "source": [
    "import pandas as pd\n",
    "from sklearn.feature_extraction.text import CountVectorizer\n",
    "from sklearn.metrics.pairwise import cosine_similarity\n",
    "from src.content_based import *\n",
    "import warnings\n",
    "warnings.filterwarnings(\"ignore\")"
   ]
  },
  {
   "cell_type": "markdown",
   "id": "bbb08f6b",
   "metadata": {},
   "source": [
    "### Load data"
   ]
  },
  {
   "cell_type": "code",
   "execution_count": 2,
   "id": "42b36038",
   "metadata": {},
   "outputs": [],
   "source": [
    "# Load recipes\n",
    "recipes = pd.read_feather(\"./data/recipes.feather\")\n",
    "recipes.drop(columns=[\"level_0\", \"index\"], axis=1, inplace=True)\n",
    "recipes = recipes.sample(n=10000, random_state=42).reset_index(drop=True) # Use a sample of 10,000 recipes\n",
    "\n",
    "# Load interactions\n",
    "interactions = pd.read_feather(\"./data/interactions.feather\")\n",
    "interactions = interactions[interactions[\"recipe_id\"].isin(recipes[\"id\"])]"
   ]
  },
  {
   "cell_type": "markdown",
   "id": "53d63028",
   "metadata": {},
   "source": [
    "### Preprocess text data"
   ]
  },
  {
   "cell_type": "code",
   "execution_count": 3,
   "id": "7470f075",
   "metadata": {},
   "outputs": [
    {
     "data": {
      "text/html": [
       "<div>\n",
       "<style scoped>\n",
       "    .dataframe tbody tr th:only-of-type {\n",
       "        vertical-align: middle;\n",
       "    }\n",
       "\n",
       "    .dataframe tbody tr th {\n",
       "        vertical-align: top;\n",
       "    }\n",
       "\n",
       "    .dataframe thead th {\n",
       "        text-align: right;\n",
       "    }\n",
       "</style>\n",
       "<table border=\"1\" class=\"dataframe\">\n",
       "  <thead>\n",
       "    <tr style=\"text-align: right;\">\n",
       "      <th></th>\n",
       "      <th>name</th>\n",
       "      <th>bag_of_words</th>\n",
       "    </tr>\n",
       "  </thead>\n",
       "  <tbody>\n",
       "    <tr>\n",
       "      <th>0</th>\n",
       "      <td>crab spinach casserole</td>\n",
       "      <td>crab spinach casserole 60 minutes or less time...</td>\n",
       "    </tr>\n",
       "    <tr>\n",
       "      <th>1</th>\n",
       "      <td>curried beef</td>\n",
       "      <td>curried beef weeknight time to make course mai...</td>\n",
       "    </tr>\n",
       "    <tr>\n",
       "      <th>2</th>\n",
       "      <td>delicious steamed whole artichokes</td>\n",
       "      <td>delicious steamed whole artichokes 60 minutes ...</td>\n",
       "    </tr>\n",
       "    <tr>\n",
       "      <th>3</th>\n",
       "      <td>pork tenderloin with hot mustard sauce</td>\n",
       "      <td>pork tenderloin with hot mustard sauce 60 minu...</td>\n",
       "    </tr>\n",
       "    <tr>\n",
       "      <th>4</th>\n",
       "      <td>mixed barbecue sauce</td>\n",
       "      <td>mixed barbecue sauce 15 minutes or less time t...</td>\n",
       "    </tr>\n",
       "  </tbody>\n",
       "</table>\n",
       "</div>"
      ],
      "text/plain": [
       "                                     name  \\\n",
       "0                  crab spinach casserole   \n",
       "1                            curried beef   \n",
       "2      delicious steamed whole artichokes   \n",
       "3  pork tenderloin with hot mustard sauce   \n",
       "4                    mixed barbecue sauce   \n",
       "\n",
       "                                        bag_of_words  \n",
       "0  crab spinach casserole 60 minutes or less time...  \n",
       "1  curried beef weeknight time to make course mai...  \n",
       "2  delicious steamed whole artichokes 60 minutes ...  \n",
       "3  pork tenderloin with hot mustard sauce 60 minu...  \n",
       "4  mixed barbecue sauce 15 minutes or less time t...  "
      ]
     },
     "execution_count": 3,
     "metadata": {},
     "output_type": "execute_result"
    }
   ],
   "source": [
    "recipes[\"tags\"] = recipes[\"tags\"].apply(lambda x: \" \".join(x))\n",
    "recipes[\"steps\"] = recipes[\"steps\"].apply(lambda x: \" \".join(x))\n",
    "recipes[\"ingredients\"] = recipes[\"ingredients\"].apply(lambda x: \" \".join(x))\n",
    "\n",
    "# Get bag of words\n",
    "cols = [\"name\", \"tags\", \"steps\", \"ingredients\"]\n",
    "recipes = preprocess(recipes, cols)\n",
    "recipes[\"bag_of_words\"] = recipes[\"name\"] + \" \" + recipes[\"tags\"] + \" \" + recipes[\"steps\"] + \" \" + recipes[\"ingredients\"]\n",
    "words = recipes[[\"name\", \"bag_of_words\"]]\n",
    "words.head()"
   ]
  },
  {
   "cell_type": "markdown",
   "id": "4203fce6",
   "metadata": {},
   "source": [
    "### Get keywords"
   ]
  },
  {
   "cell_type": "code",
   "execution_count": 4,
   "id": "8781e1ac",
   "metadata": {},
   "outputs": [
    {
     "data": {
      "text/html": [
       "<div>\n",
       "<style scoped>\n",
       "    .dataframe tbody tr th:only-of-type {\n",
       "        vertical-align: middle;\n",
       "    }\n",
       "\n",
       "    .dataframe tbody tr th {\n",
       "        vertical-align: top;\n",
       "    }\n",
       "\n",
       "    .dataframe thead th {\n",
       "        text-align: right;\n",
       "    }\n",
       "</style>\n",
       "<table border=\"1\" class=\"dataframe\">\n",
       "  <thead>\n",
       "    <tr style=\"text-align: right;\">\n",
       "      <th></th>\n",
       "      <th>keywords</th>\n",
       "    </tr>\n",
       "    <tr>\n",
       "      <th>name</th>\n",
       "      <th></th>\n",
       "    </tr>\n",
       "  </thead>\n",
       "  <tbody>\n",
       "    <tr>\n",
       "      <th>crab spinach casserole</th>\n",
       "      <td>baking dish top make course main ingredient pr...</td>\n",
       "    </tr>\n",
       "    <tr>\n",
       "      <th>curried beef</th>\n",
       "      <td>less heat oil tender meat thickened vegetable ...</td>\n",
       "    </tr>\n",
       "    <tr>\n",
       "      <th>delicious steamed whole artichokes</th>\n",
       "      <td>bring may put opinion heart done salt eat pull...</td>\n",
       "    </tr>\n",
       "    <tr>\n",
       "      <th>pork tenderloin with hot mustard sauce</th>\n",
       "      <td>pork tenderloin serve sauce combine horseradis...</td>\n",
       "    </tr>\n",
       "    <tr>\n",
       "      <th>mixed barbecue sauce</th>\n",
       "      <td>tender less time mixed barbecue sauce 15 minut...</td>\n",
       "    </tr>\n",
       "  </tbody>\n",
       "</table>\n",
       "</div>"
      ],
      "text/plain": [
       "                                                                                 keywords\n",
       "name                                                                                     \n",
       "crab spinach casserole                  baking dish top make course main ingredient pr...\n",
       "curried beef                            less heat oil tender meat thickened vegetable ...\n",
       "delicious steamed whole artichokes      bring may put opinion heart done salt eat pull...\n",
       "pork tenderloin with hot mustard sauce  pork tenderloin serve sauce combine horseradis...\n",
       "mixed barbecue sauce                    tender less time mixed barbecue sauce 15 minut..."
      ]
     },
     "execution_count": 4,
     "metadata": {},
     "output_type": "execute_result"
    }
   ],
   "source": [
    "words[\"keywords\"] = words[\"bag_of_words\"].apply(get_keywords)\n",
    "words = words[[\"name\", \"keywords\"]]\n",
    "words.set_index(\"name\", inplace=True)\n",
    "words.head()"
   ]
  },
  {
   "cell_type": "code",
   "execution_count": 5,
   "id": "e15c5395",
   "metadata": {},
   "outputs": [],
   "source": [
    "# Vectorize\n",
    "vectorizer = CountVectorizer()\n",
    "count_matrix = vectorizer.fit_transform(words[\"keywords\"])"
   ]
  },
  {
   "cell_type": "markdown",
   "id": "24196099",
   "metadata": {},
   "source": [
    "### Calculate similarities"
   ]
  },
  {
   "cell_type": "code",
   "execution_count": 6,
   "id": "44eaeea7",
   "metadata": {},
   "outputs": [],
   "source": [
    "# Get cosine similarities\n",
    "similarities = cosine_similarity(count_matrix, count_matrix)"
   ]
  },
  {
   "cell_type": "markdown",
   "id": "6cc28599",
   "metadata": {},
   "source": [
    "### Make recommendations"
   ]
  },
  {
   "cell_type": "markdown",
   "id": "13afc8c6",
   "metadata": {},
   "source": [
    "We pick a random user browsing a random cake recipe. Let's see what our algorithm recommends. Feel free to remove `, random_state=42` in line 2."
   ]
  },
  {
   "cell_type": "code",
   "execution_count": 7,
   "id": "bc04c246",
   "metadata": {},
   "outputs": [
    {
     "data": {
      "text/html": [
       "<div>\n",
       "<style scoped>\n",
       "    .dataframe tbody tr th:only-of-type {\n",
       "        vertical-align: middle;\n",
       "    }\n",
       "\n",
       "    .dataframe tbody tr th {\n",
       "        vertical-align: top;\n",
       "    }\n",
       "\n",
       "    .dataframe thead th {\n",
       "        text-align: right;\n",
       "    }\n",
       "</style>\n",
       "<table border=\"1\" class=\"dataframe\">\n",
       "  <thead>\n",
       "    <tr style=\"text-align: right;\">\n",
       "      <th></th>\n",
       "      <th>name</th>\n",
       "      <th>id</th>\n",
       "      <th>minutes</th>\n",
       "      <th>contributor_id</th>\n",
       "      <th>submitted</th>\n",
       "      <th>tags</th>\n",
       "      <th>nutrition</th>\n",
       "      <th>n_steps</th>\n",
       "      <th>steps</th>\n",
       "      <th>description</th>\n",
       "      <th>ingredients</th>\n",
       "      <th>n_ingredients</th>\n",
       "      <th>bag_of_words</th>\n",
       "    </tr>\n",
       "  </thead>\n",
       "  <tbody>\n",
       "    <tr>\n",
       "      <th>6458</th>\n",
       "      <td>best ever banana cake with cream cheese frosting</td>\n",
       "      <td>67256</td>\n",
       "      <td>75</td>\n",
       "      <td>82367</td>\n",
       "      <td>2003-07-24</td>\n",
       "      <td>weeknight time to make course main ingredient ...</td>\n",
       "      <td>[503.5, 31.0, 222.0, 15.0, 11.0, 61.0, 25.0]</td>\n",
       "      <td>18</td>\n",
       "      <td>preheat oven to 275f grease and flour a 9 x 13...</td>\n",
       "      <td>this is one of (if not) the best banana cake i...</td>\n",
       "      <td>bananas lemon juice flour baking soda salt but...</td>\n",
       "      <td>13</td>\n",
       "      <td>best ever banana cake with cream cheese frosti...</td>\n",
       "    </tr>\n",
       "  </tbody>\n",
       "</table>\n",
       "</div>"
      ],
      "text/plain": [
       "                                                  name     id  minutes  \\\n",
       "6458  best ever banana cake with cream cheese frosting  67256       75   \n",
       "\n",
       "      contributor_id   submitted  \\\n",
       "6458           82367  2003-07-24   \n",
       "\n",
       "                                                   tags  \\\n",
       "6458  weeknight time to make course main ingredient ...   \n",
       "\n",
       "                                         nutrition  n_steps  \\\n",
       "6458  [503.5, 31.0, 222.0, 15.0, 11.0, 61.0, 25.0]       18   \n",
       "\n",
       "                                                  steps  \\\n",
       "6458  preheat oven to 275f grease and flour a 9 x 13...   \n",
       "\n",
       "                                            description  \\\n",
       "6458  this is one of (if not) the best banana cake i...   \n",
       "\n",
       "                                            ingredients  n_ingredients  \\\n",
       "6458  bananas lemon juice flour baking soda salt but...             13   \n",
       "\n",
       "                                           bag_of_words  \n",
       "6458  best ever banana cake with cream cheese frosti...  "
      ]
     },
     "execution_count": 7,
     "metadata": {},
     "output_type": "execute_result"
    }
   ],
   "source": [
    "# Simulate user browsing one recipe\n",
    "current_recipe_id = interactions.sample(1, random_state=42)[\"recipe_id\"] # Feel free to remove random_state\n",
    "current_recipe_id = int(current_recipe_id.values)\n",
    "current_recipe = recipes[recipes[\"id\"] == current_recipe_id]\n",
    "current_recipe"
   ]
  },
  {
   "cell_type": "markdown",
   "id": "3599bd1e",
   "metadata": {},
   "source": [
    "Our recommender gives us 4 other cakes and a toffee blondie! It is not very hard to see that these recipes share a lot in common with the current recipe and why our user may like them!"
   ]
  },
  {
   "cell_type": "code",
   "execution_count": 8,
   "id": "6efd0087",
   "metadata": {},
   "outputs": [
    {
     "data": {
      "text/html": [
       "<div>\n",
       "<style scoped>\n",
       "    .dataframe tbody tr th:only-of-type {\n",
       "        vertical-align: middle;\n",
       "    }\n",
       "\n",
       "    .dataframe tbody tr th {\n",
       "        vertical-align: top;\n",
       "    }\n",
       "\n",
       "    .dataframe thead th {\n",
       "        text-align: right;\n",
       "    }\n",
       "</style>\n",
       "<table border=\"1\" class=\"dataframe\">\n",
       "  <thead>\n",
       "    <tr style=\"text-align: right;\">\n",
       "      <th></th>\n",
       "      <th>name</th>\n",
       "      <th>id</th>\n",
       "      <th>minutes</th>\n",
       "      <th>contributor_id</th>\n",
       "      <th>submitted</th>\n",
       "      <th>tags</th>\n",
       "      <th>nutrition</th>\n",
       "      <th>n_steps</th>\n",
       "      <th>steps</th>\n",
       "      <th>description</th>\n",
       "      <th>ingredients</th>\n",
       "      <th>n_ingredients</th>\n",
       "    </tr>\n",
       "  </thead>\n",
       "  <tbody>\n",
       "    <tr>\n",
       "      <th>521</th>\n",
       "      <td>chocolate sauerkraut cake</td>\n",
       "      <td>8348</td>\n",
       "      <td>65</td>\n",
       "      <td>179133</td>\n",
       "      <td>2000-03-16</td>\n",
       "      <td>time to make course main ingredient preparatio...</td>\n",
       "      <td>[283.4, 18.0, 106.0, 12.0, 8.0, 35.0, 14.0]</td>\n",
       "      <td>16</td>\n",
       "      <td>sift together the flour cocoa baking powder ba...</td>\n",
       "      <td>i adopted this recipe from the recipezaar acco...</td>\n",
       "      <td>unbleached flour baking cocoa baking powder ba...</td>\n",
       "      <td>16</td>\n",
       "    </tr>\n",
       "    <tr>\n",
       "      <th>1276</th>\n",
       "      <td>banana toffee blondies</td>\n",
       "      <td>66089</td>\n",
       "      <td>45</td>\n",
       "      <td>64642</td>\n",
       "      <td>2003-07-04</td>\n",
       "      <td>60 minutes or less time to make course main in...</td>\n",
       "      <td>[234.2, 14.0, 98.0, 7.0, 5.0, 28.0, 11.0]</td>\n",
       "      <td>12</td>\n",
       "      <td>preheat the oven to 350 grease and flour a 9 b...</td>\n",
       "      <td>a lovely recipe from the food section of the h...</td>\n",
       "      <td>all purpose flour baking powder salt butter br...</td>\n",
       "      <td>10</td>\n",
       "    </tr>\n",
       "    <tr>\n",
       "      <th>5934</th>\n",
       "      <td>chocolate chip banana snack cake</td>\n",
       "      <td>55843</td>\n",
       "      <td>50</td>\n",
       "      <td>57787</td>\n",
       "      <td>2003-03-07</td>\n",
       "      <td>60 minutes or less time to make course prepara...</td>\n",
       "      <td>[400.8, 23.0, 154.0, 9.0, 10.0, 44.0, 21.0]</td>\n",
       "      <td>13</td>\n",
       "      <td>preheat oven to 350 degrees grease and flour a...</td>\n",
       "      <td>this cake is so moist you don't need to frost ...</td>\n",
       "      <td>all purpose flour baking powder baking soda sa...</td>\n",
       "      <td>11</td>\n",
       "    </tr>\n",
       "    <tr>\n",
       "      <th>7765</th>\n",
       "      <td>retro orange kiss me cake</td>\n",
       "      <td>117795</td>\n",
       "      <td>65</td>\n",
       "      <td>177443</td>\n",
       "      <td>2005-04-18</td>\n",
       "      <td>time to make course preparation for large grou...</td>\n",
       "      <td>[252.5, 15.0, 93.0, 12.0, 8.0, 9.0, 12.0]</td>\n",
       "      <td>18</td>\n",
       "      <td>preheat oven to 350 degrees grease and flour a...</td>\n",
       "      <td>this cake took the country by storm in 1950 wh...</td>\n",
       "      <td>orange raisins walnuts all purpose flour sugar...</td>\n",
       "      <td>12</td>\n",
       "    </tr>\n",
       "    <tr>\n",
       "      <th>9576</th>\n",
       "      <td>beer spice cake</td>\n",
       "      <td>15177</td>\n",
       "      <td>65</td>\n",
       "      <td>21705</td>\n",
       "      <td>2001-12-04</td>\n",
       "      <td>weeknight time to make course main ingredient ...</td>\n",
       "      <td>[363.1, 26.0, 107.0, 12.0, 9.0, 39.0, 15.0]</td>\n",
       "      <td>10</td>\n",
       "      <td>preheat oven to 375 degrees f grease and flour...</td>\n",
       "      <td>a nice quick spice cake. i usually make it at ...</td>\n",
       "      <td>butter brown sugar egg all purpose flour bakin...</td>\n",
       "      <td>12</td>\n",
       "    </tr>\n",
       "  </tbody>\n",
       "</table>\n",
       "</div>"
      ],
      "text/plain": [
       "                                  name      id  minutes  contributor_id  \\\n",
       "521          chocolate sauerkraut cake    8348       65          179133   \n",
       "1276            banana toffee blondies   66089       45           64642   \n",
       "5934  chocolate chip banana snack cake   55843       50           57787   \n",
       "7765         retro orange kiss me cake  117795       65          177443   \n",
       "9576                   beer spice cake   15177       65           21705   \n",
       "\n",
       "       submitted                                               tags  \\\n",
       "521   2000-03-16  time to make course main ingredient preparatio...   \n",
       "1276  2003-07-04  60 minutes or less time to make course main in...   \n",
       "5934  2003-03-07  60 minutes or less time to make course prepara...   \n",
       "7765  2005-04-18  time to make course preparation for large grou...   \n",
       "9576  2001-12-04  weeknight time to make course main ingredient ...   \n",
       "\n",
       "                                        nutrition  n_steps  \\\n",
       "521   [283.4, 18.0, 106.0, 12.0, 8.0, 35.0, 14.0]       16   \n",
       "1276    [234.2, 14.0, 98.0, 7.0, 5.0, 28.0, 11.0]       12   \n",
       "5934  [400.8, 23.0, 154.0, 9.0, 10.0, 44.0, 21.0]       13   \n",
       "7765    [252.5, 15.0, 93.0, 12.0, 8.0, 9.0, 12.0]       18   \n",
       "9576  [363.1, 26.0, 107.0, 12.0, 9.0, 39.0, 15.0]       10   \n",
       "\n",
       "                                                  steps  \\\n",
       "521   sift together the flour cocoa baking powder ba...   \n",
       "1276  preheat the oven to 350 grease and flour a 9 b...   \n",
       "5934  preheat oven to 350 degrees grease and flour a...   \n",
       "7765  preheat oven to 350 degrees grease and flour a...   \n",
       "9576  preheat oven to 375 degrees f grease and flour...   \n",
       "\n",
       "                                            description  \\\n",
       "521   i adopted this recipe from the recipezaar acco...   \n",
       "1276  a lovely recipe from the food section of the h...   \n",
       "5934  this cake is so moist you don't need to frost ...   \n",
       "7765  this cake took the country by storm in 1950 wh...   \n",
       "9576  a nice quick spice cake. i usually make it at ...   \n",
       "\n",
       "                                            ingredients  n_ingredients  \n",
       "521   unbleached flour baking cocoa baking powder ba...             16  \n",
       "1276  all purpose flour baking powder salt butter br...             10  \n",
       "5934  all purpose flour baking powder baking soda sa...             11  \n",
       "7765  orange raisins walnuts all purpose flour sugar...             12  \n",
       "9576  butter brown sugar egg all purpose flour bakin...             12  "
      ]
     },
     "execution_count": 8,
     "metadata": {},
     "output_type": "execute_result"
    }
   ],
   "source": [
    "# Content-based recommendations\n",
    "name = \"best ever banana cake with cream cheese frosting\"\n",
    "recommend(words, recipes, name, similarities)"
   ]
  },
  {
   "cell_type": "markdown",
   "id": "5b3f23f8",
   "metadata": {},
   "source": [
    "### Conclusion"
   ]
  },
  {
   "cell_type": "markdown",
   "id": "14a43fd7",
   "metadata": {},
   "source": [
    "The content-based recommender uses an NLP approach and does a very good job recommending recipes with similar ideas to an existing recipe. The great thing about a content-based recommender is that we do not need users to have previously rated or even viewed any recipes. We can do this for any recipe that exists on the platform. However, this approach assumes that a user would like another recipe with similar content to a recipe that they are already using. It does not take into account the user's historical behavior. In reality, people would not mind (or would even prefer) seeing more diverse recipes, since nobody would simply make the same kind of food over and over! In that case, instead of choosing the most similar recipes, we can choose recipes that are further down in the similarity matrix."
   ]
  }
 ],
 "metadata": {
  "kernelspec": {
   "display_name": "conda_python3",
   "language": "python",
   "name": "conda_python3"
  },
  "language_info": {
   "codemirror_mode": {
    "name": "ipython",
    "version": 3
   },
   "file_extension": ".py",
   "mimetype": "text/x-python",
   "name": "python",
   "nbconvert_exporter": "python",
   "pygments_lexer": "ipython3",
   "version": "3.6.13"
  }
 },
 "nbformat": 4,
 "nbformat_minor": 5
}
